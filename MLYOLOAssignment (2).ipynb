{
  "nbformat": 4,
  "nbformat_minor": 0,
  "metadata": {
    "colab": {
      "provenance": [],
      "gpuType": "T4"
    },
    "kernelspec": {
      "name": "python3",
      "display_name": "Python 3"
    },
    "language_info": {
      "name": "python"
    },
    "accelerator": "GPU"
  },
  "cells": [
    {
      "cell_type": "code",
      "execution_count": 2,
      "metadata": {
        "id": "j2clKe4DNWah"
      },
      "outputs": [],
      "source": [
        "import os\n",
        "import torch\n",
        "import torchvision"
      ]
    },
    {
      "cell_type": "code",
      "source": [
        "!pip install ultralytics==8.0.20\n",
        "from IPython import display\n",
        "display.clear_output()\n",
        "import ultralytics\n",
        "ultralytics.checks()"
      ],
      "metadata": {
        "colab": {
          "base_uri": "https://localhost:8080/"
        },
        "id": "OSiAyOxsNhOv",
        "outputId": "bfe85d92-8892-4151-ff89-b09b7bdd1dd8"
      },
      "execution_count": 4,
      "outputs": [
        {
          "output_type": "stream",
          "name": "stderr",
          "text": [
            "Ultralytics YOLOv8.0.20 🚀 Python-3.10.12 torch-2.3.0+cu121 CUDA:0 (Tesla T4, 15102MiB)\n",
            "Setup complete ✅ (2 CPUs, 12.7 GB RAM, 30.1/78.2 GB disk)\n"
          ]
        }
      ]
    },
    {
      "cell_type": "code",
      "source": [
        "from ultralytics import YOLO\n",
        "from IPython.display import display, Image"
      ],
      "metadata": {
        "id": "FX6DbFFYNvr_"
      },
      "execution_count": 5,
      "outputs": []
    },
    {
      "cell_type": "code",
      "source": [
        "from google.colab import drive\n",
        "drive.mount('/content/drive')"
      ],
      "metadata": {
        "colab": {
          "base_uri": "https://localhost:8080/"
        },
        "id": "XlWl_Ex2OLCf",
        "outputId": "75e77333-b50e-4d36-97bd-038a615205b7"
      },
      "execution_count": 6,
      "outputs": [
        {
          "output_type": "stream",
          "name": "stdout",
          "text": [
            "Mounted at /content/drive\n"
          ]
        }
      ]
    },
    {
      "cell_type": "code",
      "source": [
        "%cd /content/drive/MyDrive/car"
      ],
      "metadata": {
        "colab": {
          "base_uri": "https://localhost:8080/"
        },
        "id": "zfqNqXWFOQVh",
        "outputId": "7599f7c5-2443-481c-e963-3a171e0e15e2"
      },
      "execution_count": 7,
      "outputs": [
        {
          "output_type": "stream",
          "name": "stdout",
          "text": [
            "/content/drive/MyDrive/car\n"
          ]
        }
      ]
    },
    {
      "cell_type": "code",
      "source": [
        "!ls\n"
      ],
      "metadata": {
        "colab": {
          "base_uri": "https://localhost:8080/"
        },
        "id": "E4xSLKqGOj9E",
        "outputId": "a6e30a8b-437a-4b31-baca-aa8742042621"
      },
      "execution_count": 8,
      "outputs": [
        {
          "output_type": "stream",
          "name": "stdout",
          "text": [
            "data.yaml  README.dataset.txt  README.roboflow.txt  runs  test\ttrain  valid  yolov8m.pt\n"
          ]
        }
      ]
    },
    {
      "cell_type": "code",
      "source": [
        "%cd /content/drive/MyDrive/car\n",
        "!yolo task=detect mode=train model=yolov8m.pt data=data.yaml epochs=10 imgsz=640 plots=True"
      ],
      "metadata": {
        "colab": {
          "base_uri": "https://localhost:8080/"
        },
        "id": "Soybmn-yOltr",
        "outputId": "b5cc0a04-cc24-4b96-879e-5a147fa0b81d"
      },
      "execution_count": 11,
      "outputs": [
        {
          "output_type": "stream",
          "name": "stdout",
          "text": [
            "/content/drive/MyDrive/car\n",
            "Ultralytics YOLOv8.0.20 🚀 Python-3.10.12 torch-2.3.0+cu121 CUDA:0 (Tesla T4, 15102MiB)\n",
            "\u001b[34m\u001b[1myolo/engine/trainer: \u001b[0mtask=detect, mode=train, model=yolov8m.yaml, data=data.yaml, epochs=10, patience=50, batch=16, imgsz=640, save=True, cache=False, device=, workers=8, project=None, name=None, exist_ok=False, pretrained=False, optimizer=SGD, verbose=True, seed=0, deterministic=True, single_cls=False, image_weights=False, rect=False, cos_lr=False, close_mosaic=10, resume=False, overlap_mask=True, mask_ratio=4, dropout=False, val=True, save_json=False, save_hybrid=False, conf=0.001, iou=0.7, max_det=300, half=False, dnn=False, plots=True, source=ultralytics/assets/, show=False, save_txt=False, save_conf=False, save_crop=False, hide_labels=False, hide_conf=False, vid_stride=1, line_thickness=3, visualize=False, augment=False, agnostic_nms=False, classes=None, retina_masks=False, boxes=True, format=torchscript, keras=False, optimize=False, int8=False, dynamic=False, simplify=False, opset=17, workspace=4, nms=False, lr0=0.01, lrf=0.01, momentum=0.937, weight_decay=0.001, warmup_epochs=3.0, warmup_momentum=0.8, warmup_bias_lr=0.1, box=7.5, cls=0.5, dfl=1.5, fl_gamma=0.0, label_smoothing=0.0, nbs=64, hsv_h=0.015, hsv_s=0.7, hsv_v=0.4, degrees=0.0, translate=0.1, scale=0.9, shear=0.0, perspective=0.0, flipud=0.0, fliplr=0.5, mosaic=1.0, mixup=0.1, copy_paste=0.1, cfg=None, v5loader=False, save_dir=runs/detect/train7\n",
            "2024-07-13 18:48:33.346980: E external/local_xla/xla/stream_executor/cuda/cuda_dnn.cc:9261] Unable to register cuDNN factory: Attempting to register factory for plugin cuDNN when one has already been registered\n",
            "2024-07-13 18:48:33.347039: E external/local_xla/xla/stream_executor/cuda/cuda_fft.cc:607] Unable to register cuFFT factory: Attempting to register factory for plugin cuFFT when one has already been registered\n",
            "2024-07-13 18:48:33.348358: E external/local_xla/xla/stream_executor/cuda/cuda_blas.cc:1515] Unable to register cuBLAS factory: Attempting to register factory for plugin cuBLAS when one has already been registered\n",
            "2024-07-13 18:48:33.355308: I tensorflow/core/platform/cpu_feature_guard.cc:182] This TensorFlow binary is optimized to use available CPU instructions in performance-critical operations.\n",
            "To enable the following instructions: AVX2 AVX512F FMA, in other operations, rebuild TensorFlow with the appropriate compiler flags.\n",
            "2024-07-13 18:48:34.682421: W tensorflow/compiler/tf2tensorrt/utils/py_utils.cc:38] TF-TRT Warning: Could not find TensorRT\n",
            "Overriding model.yaml nc=80 with nc=16\n",
            "\n",
            "                   from  n    params  module                                       arguments                     \n",
            "  0                  -1  1      1392  ultralytics.nn.modules.Conv                  [3, 48, 3, 2]                 \n",
            "  1                  -1  1     41664  ultralytics.nn.modules.Conv                  [48, 96, 3, 2]                \n",
            "  2                  -1  2    111360  ultralytics.nn.modules.C2f                   [96, 96, 2, True]             \n",
            "  3                  -1  1    166272  ultralytics.nn.modules.Conv                  [96, 192, 3, 2]               \n",
            "  4                  -1  4    813312  ultralytics.nn.modules.C2f                   [192, 192, 4, True]           \n",
            "  5                  -1  1    664320  ultralytics.nn.modules.Conv                  [192, 384, 3, 2]              \n",
            "  6                  -1  4   3248640  ultralytics.nn.modules.C2f                   [384, 384, 4, True]           \n",
            "  7                  -1  1   1991808  ultralytics.nn.modules.Conv                  [384, 576, 3, 2]              \n",
            "  8                  -1  2   3985920  ultralytics.nn.modules.C2f                   [576, 576, 2, True]           \n",
            "  9                  -1  1    831168  ultralytics.nn.modules.SPPF                  [576, 576, 5]                 \n",
            " 10                  -1  1         0  torch.nn.modules.upsampling.Upsample         [None, 2, 'nearest']          \n",
            " 11             [-1, 6]  1         0  ultralytics.nn.modules.Concat                [1]                           \n",
            " 12                  -1  2   1993728  ultralytics.nn.modules.C2f                   [960, 384, 2]                 \n",
            " 13                  -1  1         0  torch.nn.modules.upsampling.Upsample         [None, 2, 'nearest']          \n",
            " 14             [-1, 4]  1         0  ultralytics.nn.modules.Concat                [1]                           \n",
            " 15                  -1  2    517632  ultralytics.nn.modules.C2f                   [576, 192, 2]                 \n",
            " 16                  -1  1    332160  ultralytics.nn.modules.Conv                  [192, 192, 3, 2]              \n",
            " 17            [-1, 12]  1         0  ultralytics.nn.modules.Concat                [1]                           \n",
            " 18                  -1  2   1846272  ultralytics.nn.modules.C2f                   [576, 384, 2]                 \n",
            " 19                  -1  1   1327872  ultralytics.nn.modules.Conv                  [384, 384, 3, 2]              \n",
            " 20             [-1, 9]  1         0  ultralytics.nn.modules.Concat                [1]                           \n",
            " 21                  -1  2   4207104  ultralytics.nn.modules.C2f                   [960, 576, 2]                 \n",
            " 22        [15, 18, 21]  1   3784960  ultralytics.nn.modules.Detect                [16, [192, 384, 576]]         \n",
            "Model summary: 295 layers, 25865584 parameters, 25865568 gradients, 79.1 GFLOPs\n",
            "\n",
            "Transferred 469/475 items from pretrained weights\n",
            "\u001b[34m\u001b[1moptimizer:\u001b[0m SGD(lr=0.01) with parameter groups 77 weight(decay=0.0), 84 weight(decay=0.001), 83 bias\n",
            "\u001b[34m\u001b[1mtrain: \u001b[0mScanning /content/drive/MyDrive/car/train/labels.cache... 1509 images, 3 backgrounds, 0 corrupt: 100% 1512/1512 [00:00<?, ?it/s]\n",
            "\u001b[34m\u001b[1malbumentations: \u001b[0mBlur(p=0.01, blur_limit=(3, 7)), MedianBlur(p=0.01, blur_limit=(3, 7)), ToGray(p=0.01), CLAHE(p=0.01, clip_limit=(1, 4.0), tile_grid_size=(8, 8))\n",
            "\u001b[34m\u001b[1mval: \u001b[0mScanning /content/drive/MyDrive/car/valid/labels.cache... 160 images, 1 backgrounds, 0 corrupt: 100% 160/160 [00:00<?, ?it/s]\n",
            "Image sizes 640 train, 640 val\n",
            "Using 2 dataloader workers\n",
            "Logging results to \u001b[1mruns/detect/train7\u001b[0m\n",
            "Starting training for 10 epochs...\n",
            "/usr/lib/python3.10/multiprocessing/popen_fork.py:66: RuntimeWarning: os.fork() was called. os.fork() is incompatible with multithreaded code, and JAX is multithreaded, so this will likely lead to a deadlock.\n",
            "  self.pid = os.fork()\n",
            "Closing dataloader mosaic\n",
            "\u001b[34m\u001b[1malbumentations: \u001b[0mBlur(p=0.01, blur_limit=(3, 7)), MedianBlur(p=0.01, blur_limit=(3, 7)), ToGray(p=0.01), CLAHE(p=0.01, clip_limit=(1, 4.0), tile_grid_size=(8, 8))\n",
            "\n",
            "      Epoch    GPU_mem   box_loss   cls_loss   dfl_loss  Instances       Size\n",
            "       1/10      6.83G      1.145      2.759      1.466         41        640: 100% 95/95 [01:18<00:00,  1.21it/s]\n",
            "                 Class     Images  Instances      Box(P          R      mAP50  mAP50-95):   0% 0/5 [00:00<?, ?it/s]/usr/lib/python3.10/multiprocessing/popen_fork.py:66: RuntimeWarning: os.fork() was called. os.fork() is incompatible with multithreaded code, and JAX is multithreaded, so this will likely lead to a deadlock.\n",
            "  self.pid = os.fork()\n",
            "                 Class     Images  Instances      Box(P          R      mAP50  mAP50-95): 100% 5/5 [00:04<00:00,  1.02it/s]\n",
            "                   all        160       1055      0.449      0.514      0.462      0.328\n",
            "                  boot        160         39      0.311      0.487      0.319      0.219\n",
            "                   car        160        145      0.858      0.966      0.952      0.829\n",
            "                  door        160         52      0.849      0.325      0.455       0.29\n",
            "          front_bumper        160         30     0.0883      0.133      0.124     0.0881\n",
            "           front_grill        160         51       0.38      0.451      0.428      0.356\n",
            "      front_windshield        160         56      0.456      0.857       0.74      0.577\n",
            "              headlamp        160        117      0.503      0.624      0.555      0.393\n",
            "                  hood        160         50      0.372       0.64      0.502      0.366\n",
            "         license_plate        160        117      0.582      0.658      0.571      0.417\n",
            "                 panel        160         18      0.163      0.167     0.0474     0.0177\n",
            "           rear_bumper        160         37      0.225      0.297        0.2      0.144\n",
            "       rear_windshield        160         31      0.214       0.29      0.156      0.104\n",
            "       sideview_mirror        160         79      0.472      0.544       0.51      0.287\n",
            "              taillamp        160         78      0.541      0.423      0.493      0.347\n",
            "                 wheel        160        108       0.68      0.689      0.696      0.413\n",
            "                window        160         47      0.492       0.68      0.648      0.406\n",
            "/usr/lib/python3.10/multiprocessing/popen_fork.py:66: RuntimeWarning: os.fork() was called. os.fork() is incompatible with multithreaded code, and JAX is multithreaded, so this will likely lead to a deadlock.\n",
            "  self.pid = os.fork()\n",
            "\n",
            "      Epoch    GPU_mem   box_loss   cls_loss   dfl_loss  Instances       Size\n",
            "       2/10      8.07G     0.9054      1.395      1.224         39        640: 100% 95/95 [01:00<00:00,  1.56it/s]\n",
            "                 Class     Images  Instances      Box(P          R      mAP50  mAP50-95):   0% 0/5 [00:00<?, ?it/s]/usr/lib/python3.10/multiprocessing/popen_fork.py:66: RuntimeWarning: os.fork() was called. os.fork() is incompatible with multithreaded code, and JAX is multithreaded, so this will likely lead to a deadlock.\n",
            "  self.pid = os.fork()\n",
            "                 Class     Images  Instances      Box(P          R      mAP50  mAP50-95): 100% 5/5 [00:06<00:00,  1.25s/it]\n",
            "                   all        160       1055      0.572      0.569      0.594      0.406\n",
            "                  boot        160         39      0.793      0.333       0.57      0.389\n",
            "                   car        160        145      0.899      0.972      0.959      0.768\n",
            "                  door        160         52      0.797      0.481      0.712      0.431\n",
            "          front_bumper        160         30      0.294        0.5      0.372      0.237\n",
            "           front_grill        160         51      0.754      0.542      0.579      0.458\n",
            "      front_windshield        160         56      0.501      0.911      0.729      0.565\n",
            "              headlamp        160        117      0.689      0.675      0.718       0.52\n",
            "                  hood        160         50      0.646       0.52       0.52      0.375\n",
            "         license_plate        160        117       0.78      0.759      0.781      0.566\n",
            "                 panel        160         18      0.111      0.167     0.0863     0.0402\n",
            "           rear_bumper        160         37      0.449      0.514      0.427      0.198\n",
            "       rear_windshield        160         31          0          0      0.367      0.291\n",
            "       sideview_mirror        160         79      0.476      0.734      0.647      0.393\n",
            "              taillamp        160         78      0.593      0.598      0.639      0.468\n",
            "                 wheel        160        108       0.63      0.741      0.714      0.393\n",
            "                window        160         47      0.737       0.66      0.681      0.399\n",
            "/usr/lib/python3.10/multiprocessing/popen_fork.py:66: RuntimeWarning: os.fork() was called. os.fork() is incompatible with multithreaded code, and JAX is multithreaded, so this will likely lead to a deadlock.\n",
            "  self.pid = os.fork()\n",
            "\n",
            "      Epoch    GPU_mem   box_loss   cls_loss   dfl_loss  Instances       Size\n",
            "       3/10      8.07G     0.8631      1.101      1.193         54        640: 100% 95/95 [00:59<00:00,  1.59it/s]\n",
            "                 Class     Images  Instances      Box(P          R      mAP50  mAP50-95):   0% 0/5 [00:00<?, ?it/s]/usr/lib/python3.10/multiprocessing/popen_fork.py:66: RuntimeWarning: os.fork() was called. os.fork() is incompatible with multithreaded code, and JAX is multithreaded, so this will likely lead to a deadlock.\n",
            "  self.pid = os.fork()\n",
            "                 Class     Images  Instances      Box(P          R      mAP50  mAP50-95): 100% 5/5 [00:05<00:00,  1.03s/it]\n",
            "                   all        160       1055       0.62      0.612      0.612      0.415\n",
            "                  boot        160         39      0.636      0.436      0.576      0.301\n",
            "                   car        160        145      0.907      0.966      0.951      0.789\n",
            "                  door        160         52      0.889      0.614      0.706      0.468\n",
            "          front_bumper        160         30      0.283      0.367      0.313      0.211\n",
            "           front_grill        160         51      0.522      0.569      0.497      0.363\n",
            "      front_windshield        160         56       0.68      0.871      0.792      0.641\n",
            "              headlamp        160        117      0.772       0.65      0.738      0.527\n",
            "                  hood        160         50      0.699       0.65       0.66      0.513\n",
            "         license_plate        160        117      0.622      0.821      0.711      0.534\n",
            "                 panel        160         18      0.271        0.5      0.441      0.237\n",
            "           rear_bumper        160         37      0.358      0.302      0.319      0.204\n",
            "       rear_windshield        160         31      0.733      0.355       0.48      0.253\n",
            "       sideview_mirror        160         79       0.62      0.646      0.609      0.381\n",
            "              taillamp        160         78      0.534      0.795      0.573      0.406\n",
            "                 wheel        160        108      0.813      0.762      0.804      0.421\n",
            "                window        160         47      0.577      0.489      0.625      0.384\n",
            "/usr/lib/python3.10/multiprocessing/popen_fork.py:66: RuntimeWarning: os.fork() was called. os.fork() is incompatible with multithreaded code, and JAX is multithreaded, so this will likely lead to a deadlock.\n",
            "  self.pid = os.fork()\n",
            "\n",
            "      Epoch    GPU_mem   box_loss   cls_loss   dfl_loss  Instances       Size\n",
            "       4/10      8.07G     0.8618      1.001      1.165         48        640: 100% 95/95 [00:59<00:00,  1.60it/s]\n",
            "                 Class     Images  Instances      Box(P          R      mAP50  mAP50-95):   0% 0/5 [00:00<?, ?it/s]/usr/lib/python3.10/multiprocessing/popen_fork.py:66: RuntimeWarning: os.fork() was called. os.fork() is incompatible with multithreaded code, and JAX is multithreaded, so this will likely lead to a deadlock.\n",
            "  self.pid = os.fork()\n",
            "                 Class     Images  Instances      Box(P          R      mAP50  mAP50-95): 100% 5/5 [00:05<00:00,  1.17s/it]\n",
            "                   all        160       1055      0.632      0.607       0.63      0.431\n",
            "                  boot        160         39      0.498      0.462      0.508      0.384\n",
            "                   car        160        145      0.858      0.986      0.943      0.797\n",
            "                  door        160         52      0.566      0.677        0.7      0.418\n",
            "          front_bumper        160         30      0.331        0.4      0.372      0.266\n",
            "           front_grill        160         51      0.736       0.51      0.566      0.422\n",
            "      front_windshield        160         56      0.847      0.857      0.868      0.676\n",
            "              headlamp        160        117      0.619      0.694      0.738      0.532\n",
            "                  hood        160         50      0.737       0.56      0.566      0.391\n",
            "         license_plate        160        117      0.795      0.797      0.787      0.594\n",
            "                 panel        160         18      0.152      0.611      0.419      0.224\n",
            "           rear_bumper        160         37      0.446      0.541      0.522      0.351\n",
            "       rear_windshield        160         31      0.613      0.161      0.394      0.274\n",
            "       sideview_mirror        160         79       0.67      0.443      0.594       0.34\n",
            "              taillamp        160         78      0.583      0.628      0.543      0.362\n",
            "                 wheel        160        108      0.871      0.626      0.813      0.451\n",
            "                window        160         47      0.793      0.766      0.741      0.414\n",
            "/usr/lib/python3.10/multiprocessing/popen_fork.py:66: RuntimeWarning: os.fork() was called. os.fork() is incompatible with multithreaded code, and JAX is multithreaded, so this will likely lead to a deadlock.\n",
            "  self.pid = os.fork()\n",
            "\n",
            "      Epoch    GPU_mem   box_loss   cls_loss   dfl_loss  Instances       Size\n",
            "       5/10      8.07G     0.8377     0.9088      1.157         37        640: 100% 95/95 [00:59<00:00,  1.61it/s]\n",
            "                 Class     Images  Instances      Box(P          R      mAP50  mAP50-95):   0% 0/5 [00:00<?, ?it/s]/usr/lib/python3.10/multiprocessing/popen_fork.py:66: RuntimeWarning: os.fork() was called. os.fork() is incompatible with multithreaded code, and JAX is multithreaded, so this will likely lead to a deadlock.\n",
            "  self.pid = os.fork()\n",
            "                 Class     Images  Instances      Box(P          R      mAP50  mAP50-95): 100% 5/5 [00:04<00:00,  1.06it/s]\n",
            "                   all        160       1055      0.643      0.629      0.656      0.448\n",
            "                  boot        160         39      0.408      0.538      0.527      0.375\n",
            "                   car        160        145      0.869      0.965      0.948      0.798\n",
            "                  door        160         52      0.815      0.676      0.787      0.513\n",
            "          front_bumper        160         30      0.647      0.428      0.546      0.317\n",
            "           front_grill        160         51      0.468      0.647      0.579      0.438\n",
            "      front_windshield        160         56      0.856      0.839      0.859       0.67\n",
            "              headlamp        160        117      0.807      0.608      0.737      0.535\n",
            "                  hood        160         50      0.656      0.649      0.665      0.503\n",
            "         license_plate        160        117      0.752      0.658      0.753      0.538\n",
            "                 panel        160         18      0.288      0.444      0.434      0.246\n",
            "           rear_bumper        160         37      0.576      0.459      0.463      0.232\n",
            "       rear_windshield        160         31      0.677      0.419       0.58      0.427\n",
            "       sideview_mirror        160         79      0.614      0.524      0.588      0.363\n",
            "              taillamp        160         78       0.42      0.769      0.593      0.377\n",
            "                 wheel        160        108      0.889      0.694      0.785      0.442\n",
            "                window        160         47      0.538      0.745       0.65      0.396\n",
            "/usr/lib/python3.10/multiprocessing/popen_fork.py:66: RuntimeWarning: os.fork() was called. os.fork() is incompatible with multithreaded code, and JAX is multithreaded, so this will likely lead to a deadlock.\n",
            "  self.pid = os.fork()\n",
            "\n",
            "      Epoch    GPU_mem   box_loss   cls_loss   dfl_loss  Instances       Size\n",
            "       6/10      8.07G     0.8007     0.8129      1.129         63        640: 100% 95/95 [00:59<00:00,  1.59it/s]\n",
            "                 Class     Images  Instances      Box(P          R      mAP50  mAP50-95):   0% 0/5 [00:00<?, ?it/s]/usr/lib/python3.10/multiprocessing/popen_fork.py:66: RuntimeWarning: os.fork() was called. os.fork() is incompatible with multithreaded code, and JAX is multithreaded, so this will likely lead to a deadlock.\n",
            "  self.pid = os.fork()\n",
            "                 Class     Images  Instances      Box(P          R      mAP50  mAP50-95): 100% 5/5 [00:05<00:00,  1.16s/it]\n",
            "                   all        160       1055      0.687       0.63      0.673      0.461\n",
            "                  boot        160         39      0.579      0.641      0.587      0.455\n",
            "                   car        160        145      0.874      0.938      0.944      0.798\n",
            "                  door        160         52      0.814      0.673       0.76      0.499\n",
            "          front_bumper        160         30      0.666      0.465      0.503      0.313\n",
            "           front_grill        160         51      0.665      0.529      0.543      0.417\n",
            "      front_windshield        160         56      0.804      0.803      0.874      0.672\n",
            "              headlamp        160        117      0.751      0.695      0.799      0.535\n",
            "                  hood        160         50      0.651        0.6      0.635      0.466\n",
            "         license_plate        160        117      0.883      0.718      0.851      0.641\n",
            "                 panel        160         18      0.682        0.5      0.509      0.291\n",
            "           rear_bumper        160         37      0.457       0.73      0.681      0.351\n",
            "       rear_windshield        160         31       0.41      0.516      0.481      0.373\n",
            "       sideview_mirror        160         79      0.583      0.468      0.564      0.317\n",
            "              taillamp        160         78      0.546      0.692       0.62      0.416\n",
            "                 wheel        160        108      0.881      0.685      0.834      0.478\n",
            "                window        160         47      0.748      0.426       0.59       0.36\n",
            "/usr/lib/python3.10/multiprocessing/popen_fork.py:66: RuntimeWarning: os.fork() was called. os.fork() is incompatible with multithreaded code, and JAX is multithreaded, so this will likely lead to a deadlock.\n",
            "  self.pid = os.fork()\n",
            "\n",
            "      Epoch    GPU_mem   box_loss   cls_loss   dfl_loss  Instances       Size\n",
            "       7/10      8.07G      0.762     0.7369        1.1         31        640: 100% 95/95 [01:00<00:00,  1.57it/s]\n",
            "                 Class     Images  Instances      Box(P          R      mAP50  mAP50-95):   0% 0/5 [00:00<?, ?it/s]/usr/lib/python3.10/multiprocessing/popen_fork.py:66: RuntimeWarning: os.fork() was called. os.fork() is incompatible with multithreaded code, and JAX is multithreaded, so this will likely lead to a deadlock.\n",
            "  self.pid = os.fork()\n",
            "                 Class     Images  Instances      Box(P          R      mAP50  mAP50-95): 100% 5/5 [00:04<00:00,  1.08it/s]\n",
            "                   all        160       1055      0.666      0.658      0.663       0.47\n",
            "                  boot        160         39      0.644      0.436       0.53      0.393\n",
            "                   car        160        145      0.855      0.945      0.938      0.832\n",
            "                  door        160         52      0.883      0.581      0.785      0.503\n",
            "          front_bumper        160         30      0.461      0.543      0.457      0.322\n",
            "           front_grill        160         51      0.565      0.686      0.661      0.506\n",
            "      front_windshield        160         56      0.763      0.964      0.934      0.717\n",
            "              headlamp        160        117      0.834      0.701      0.809        0.6\n",
            "                  hood        160         50      0.599       0.72      0.659      0.482\n",
            "         license_plate        160        117      0.843      0.855      0.826      0.649\n",
            "                 panel        160         18      0.436        0.5      0.392      0.222\n",
            "           rear_bumper        160         37      0.465      0.324      0.364      0.224\n",
            "       rear_windshield        160         31      0.683      0.418      0.527      0.397\n",
            "       sideview_mirror        160         79      0.665      0.653      0.634      0.353\n",
            "              taillamp        160         78       0.56      0.782      0.562      0.391\n",
            "                 wheel        160        108      0.715      0.788      0.825      0.489\n",
            "                window        160         47      0.692      0.638      0.697      0.447\n",
            "/usr/lib/python3.10/multiprocessing/popen_fork.py:66: RuntimeWarning: os.fork() was called. os.fork() is incompatible with multithreaded code, and JAX is multithreaded, so this will likely lead to a deadlock.\n",
            "  self.pid = os.fork()\n",
            "\n",
            "      Epoch    GPU_mem   box_loss   cls_loss   dfl_loss  Instances       Size\n",
            "       8/10      8.07G     0.7144     0.6493      1.059         59        640: 100% 95/95 [01:00<00:00,  1.58it/s]\n",
            "                 Class     Images  Instances      Box(P          R      mAP50  mAP50-95):   0% 0/5 [00:00<?, ?it/s]/usr/lib/python3.10/multiprocessing/popen_fork.py:66: RuntimeWarning: os.fork() was called. os.fork() is incompatible with multithreaded code, and JAX is multithreaded, so this will likely lead to a deadlock.\n",
            "  self.pid = os.fork()\n",
            "                 Class     Images  Instances      Box(P          R      mAP50  mAP50-95): 100% 5/5 [00:04<00:00,  1.12it/s]\n",
            "                   all        160       1055      0.638      0.678      0.685      0.491\n",
            "                  boot        160         39      0.486       0.46      0.471      0.339\n",
            "                   car        160        145      0.888      0.917      0.937      0.838\n",
            "                  door        160         52      0.834      0.676      0.805       0.58\n",
            "          front_bumper        160         30       0.48      0.667      0.527      0.339\n",
            "           front_grill        160         51      0.581      0.653      0.633      0.509\n",
            "      front_windshield        160         56      0.719      0.768      0.846       0.68\n",
            "              headlamp        160        117      0.731      0.735      0.808      0.583\n",
            "                  hood        160         50      0.672       0.58      0.629      0.487\n",
            "         license_plate        160        117      0.786      0.848      0.828      0.636\n",
            "                 panel        160         18      0.526      0.679      0.592      0.324\n",
            "           rear_bumper        160         37      0.424      0.517      0.507      0.339\n",
            "       rear_windshield        160         31      0.646      0.548       0.61      0.436\n",
            "       sideview_mirror        160         79      0.467        0.8      0.709      0.446\n",
            "              taillamp        160         78      0.513      0.705      0.645      0.476\n",
            "                 wheel        160        108      0.782      0.741       0.81      0.458\n",
            "                window        160         47      0.667      0.553      0.599      0.386\n",
            "/usr/lib/python3.10/multiprocessing/popen_fork.py:66: RuntimeWarning: os.fork() was called. os.fork() is incompatible with multithreaded code, and JAX is multithreaded, so this will likely lead to a deadlock.\n",
            "  self.pid = os.fork()\n",
            "\n",
            "      Epoch    GPU_mem   box_loss   cls_loss   dfl_loss  Instances       Size\n",
            "       9/10      8.07G     0.6776     0.5925      1.039         48        640: 100% 95/95 [01:00<00:00,  1.57it/s]\n",
            "                 Class     Images  Instances      Box(P          R      mAP50  mAP50-95):   0% 0/5 [00:00<?, ?it/s]/usr/lib/python3.10/multiprocessing/popen_fork.py:66: RuntimeWarning: os.fork() was called. os.fork() is incompatible with multithreaded code, and JAX is multithreaded, so this will likely lead to a deadlock.\n",
            "  self.pid = os.fork()\n",
            "                 Class     Images  Instances      Box(P          R      mAP50  mAP50-95): 100% 5/5 [00:06<00:00,  1.22s/it]\n",
            "                   all        160       1055        0.7      0.697      0.713      0.523\n",
            "                  boot        160         39      0.611      0.436      0.528      0.428\n",
            "                   car        160        145      0.912      0.959      0.941       0.83\n",
            "                  door        160         52      0.973      0.692       0.84      0.589\n",
            "          front_bumper        160         30      0.657      0.511      0.631      0.445\n",
            "           front_grill        160         51      0.701      0.608      0.661      0.519\n",
            "      front_windshield        160         56      0.724      0.964      0.888      0.693\n",
            "              headlamp        160        117       0.71      0.744      0.789      0.584\n",
            "                  hood        160         50      0.651        0.8      0.678      0.542\n",
            "         license_plate        160        117      0.822      0.792      0.824      0.636\n",
            "                 panel        160         18      0.476        0.5       0.49      0.313\n",
            "           rear_bumper        160         37      0.524      0.685      0.586      0.425\n",
            "       rear_windshield        160         31      0.623      0.742      0.749      0.574\n",
            "       sideview_mirror        160         79      0.593      0.663      0.631       0.39\n",
            "              taillamp        160         78      0.583      0.808      0.681      0.501\n",
            "                 wheel        160        108      0.947      0.661      0.833       0.51\n",
            "                window        160         47      0.692      0.596      0.653      0.395\n",
            "/usr/lib/python3.10/multiprocessing/popen_fork.py:66: RuntimeWarning: os.fork() was called. os.fork() is incompatible with multithreaded code, and JAX is multithreaded, so this will likely lead to a deadlock.\n",
            "  self.pid = os.fork()\n",
            "\n",
            "      Epoch    GPU_mem   box_loss   cls_loss   dfl_loss  Instances       Size\n",
            "      10/10      8.07G     0.6139      0.512     0.9996         50        640: 100% 95/95 [00:59<00:00,  1.59it/s]\n",
            "                 Class     Images  Instances      Box(P          R      mAP50  mAP50-95):   0% 0/5 [00:00<?, ?it/s]/usr/lib/python3.10/multiprocessing/popen_fork.py:66: RuntimeWarning: os.fork() was called. os.fork() is incompatible with multithreaded code, and JAX is multithreaded, so this will likely lead to a deadlock.\n",
            "  self.pid = os.fork()\n",
            "                 Class     Images  Instances      Box(P          R      mAP50  mAP50-95): 100% 5/5 [00:12<00:00,  2.45s/it]\n",
            "                   all        160       1055      0.743      0.663      0.731      0.544\n",
            "                  boot        160         39      0.657      0.443      0.573      0.476\n",
            "                   car        160        145      0.908       0.95      0.946      0.845\n",
            "                  door        160         52      0.864      0.731      0.926      0.674\n",
            "          front_bumper        160         30      0.764      0.567      0.618      0.492\n",
            "           front_grill        160         51      0.732      0.641      0.664      0.514\n",
            "      front_windshield        160         56      0.804      0.881      0.913      0.737\n",
            "              headlamp        160        117      0.829      0.769      0.827      0.616\n",
            "                  hood        160         50      0.715       0.58      0.702      0.539\n",
            "         license_plate        160        117      0.848      0.795      0.845      0.671\n",
            "                 panel        160         18      0.664        0.5      0.563      0.368\n",
            "           rear_bumper        160         37      0.507      0.432      0.503      0.336\n",
            "       rear_windshield        160         31      0.712       0.71      0.804      0.644\n",
            "       sideview_mirror        160         79      0.656      0.579       0.66      0.429\n",
            "              taillamp        160         78      0.595      0.692      0.637      0.439\n",
            "                 wheel        160        108      0.899      0.742      0.834      0.492\n",
            "                window        160         47      0.739      0.601      0.687      0.438\n",
            "\n",
            "10 epochs completed in 0.199 hours.\n",
            "Optimizer stripped from runs/detect/train7/weights/last.pt, 52.0MB\n",
            "Optimizer stripped from runs/detect/train7/weights/best.pt, 52.0MB\n",
            "\n",
            "Validating runs/detect/train7/weights/best.pt...\n",
            "Ultralytics YOLOv8.0.20 🚀 Python-3.10.12 torch-2.3.0+cu121 CUDA:0 (Tesla T4, 15102MiB)\n",
            "Model summary (fused): 218 layers, 25849024 parameters, 0 gradients, 78.7 GFLOPs\n",
            "                 Class     Images  Instances      Box(P          R      mAP50  mAP50-95):   0% 0/5 [00:00<?, ?it/s]/usr/lib/python3.10/multiprocessing/popen_fork.py:66: RuntimeWarning: os.fork() was called. os.fork() is incompatible with multithreaded code, and JAX is multithreaded, so this will likely lead to a deadlock.\n",
            "  self.pid = os.fork()\n",
            "                 Class     Images  Instances      Box(P          R      mAP50  mAP50-95): 100% 5/5 [00:13<00:00,  2.61s/it]\n",
            "                   all        160       1055      0.744      0.663      0.731      0.544\n",
            "                  boot        160         39      0.657      0.442      0.573      0.476\n",
            "                   car        160        145      0.908      0.949      0.945      0.844\n",
            "                  door        160         52      0.873      0.731      0.926       0.67\n",
            "          front_bumper        160         30      0.766      0.567      0.618      0.492\n",
            "           front_grill        160         51      0.731      0.641      0.663      0.513\n",
            "      front_windshield        160         56      0.804      0.878      0.913      0.735\n",
            "              headlamp        160        117       0.83      0.769      0.828      0.617\n",
            "                  hood        160         50      0.715       0.58      0.702      0.539\n",
            "         license_plate        160        117      0.849      0.795      0.846      0.671\n",
            "                 panel        160         18      0.666        0.5      0.563      0.368\n",
            "           rear_bumper        160         37      0.509      0.432      0.503      0.336\n",
            "       rear_windshield        160         31      0.714       0.71      0.804      0.644\n",
            "       sideview_mirror        160         79      0.656      0.579       0.66       0.43\n",
            "              taillamp        160         78      0.596      0.692      0.637      0.439\n",
            "                 wheel        160        108      0.899      0.741      0.834       0.49\n",
            "                window        160         47      0.738      0.596      0.686      0.437\n",
            "Speed: 0.6ms pre-process, 11.4ms inference, 0.0ms loss, 9.8ms post-process per image\n",
            "Results saved to \u001b[1mruns/detect/train7\u001b[0m\n"
          ]
        }
      ]
    },
    {
      "cell_type": "code",
      "source": [
        "!nvidia-smi"
      ],
      "metadata": {
        "id": "wzaBaUrvOt9E",
        "colab": {
          "base_uri": "https://localhost:8080/"
        },
        "outputId": "cc34496e-8dc1-45dd-8470-598dcd6d367a"
      },
      "execution_count": 1,
      "outputs": [
        {
          "output_type": "stream",
          "name": "stdout",
          "text": [
            "Sat Jul 13 18:30:05 2024       \n",
            "+---------------------------------------------------------------------------------------+\n",
            "| NVIDIA-SMI 535.104.05             Driver Version: 535.104.05   CUDA Version: 12.2     |\n",
            "|-----------------------------------------+----------------------+----------------------+\n",
            "| GPU  Name                 Persistence-M | Bus-Id        Disp.A | Volatile Uncorr. ECC |\n",
            "| Fan  Temp   Perf          Pwr:Usage/Cap |         Memory-Usage | GPU-Util  Compute M. |\n",
            "|                                         |                      |               MIG M. |\n",
            "|=========================================+======================+======================|\n",
            "|   0  Tesla T4                       Off | 00000000:00:04.0 Off |                    0 |\n",
            "| N/A   55C    P8              13W /  70W |      0MiB / 15360MiB |      0%      Default |\n",
            "|                                         |                      |                  N/A |\n",
            "+-----------------------------------------+----------------------+----------------------+\n",
            "                                                                                         \n",
            "+---------------------------------------------------------------------------------------+\n",
            "| Processes:                                                                            |\n",
            "|  GPU   GI   CI        PID   Type   Process name                            GPU Memory |\n",
            "|        ID   ID                                                             Usage      |\n",
            "|=======================================================================================|\n",
            "|  No running processes found                                                           |\n",
            "+---------------------------------------------------------------------------------------+\n"
          ]
        }
      ]
    },
    {
      "cell_type": "code",
      "source": [
        "!ls runs/detect/train"
      ],
      "metadata": {
        "colab": {
          "base_uri": "https://localhost:8080/"
        },
        "id": "cibIH8VHWpkH",
        "outputId": "867e41f3-3627-44bd-facf-7deddf21fd77"
      },
      "execution_count": 12,
      "outputs": [
        {
          "output_type": "stream",
          "name": "stdout",
          "text": [
            "args.yaml  weights\n"
          ]
        }
      ]
    },
    {
      "cell_type": "code",
      "source": [],
      "metadata": {
        "id": "uidLTcErZqdi"
      },
      "execution_count": null,
      "outputs": []
    }
  ]
}