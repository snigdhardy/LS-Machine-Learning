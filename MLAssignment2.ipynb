{
  "nbformat": 4,
  "nbformat_minor": 0,
  "metadata": {
    "colab": {
      "provenance": []
    },
    "kernelspec": {
      "name": "python3",
      "display_name": "Python 3"
    },
    "language_info": {
      "name": "python"
    }
  },
  "cells": [
    {
      "cell_type": "code",
      "execution_count": 1,
      "metadata": {
        "colab": {
          "base_uri": "https://localhost:8080/"
        },
        "id": "FLNyITLfYk8t",
        "outputId": "b9c9dd28-5e76-4d92-b51a-2ad95b17710b"
      },
      "outputs": [
        {
          "output_type": "stream",
          "name": "stdout",
          "text": [
            "Archive:  homer_bart.zip\n",
            "   creating: Bart/\n",
            "  inflating: Bart/bart58.bmp         \n",
            "  inflating: Bart/bart70.bmp         \n",
            "  inflating: Bart/bart64.bmp         \n",
            "  inflating: Bart/bart162.bmp        \n",
            "  inflating: Bart/bart65.bmp         \n",
            "  inflating: Bart/bart71.bmp         \n",
            "  inflating: Bart/bart59.bmp         \n",
            "  inflating: Bart/bart67.bmp         \n",
            "  inflating: Bart/bart73.bmp         \n",
            "  inflating: Bart/bart98.bmp         \n",
            "  inflating: Bart/bart161.bmp        \n",
            "  inflating: Bart/bart149.bmp        \n",
            "  inflating: Bart/bart148.bmp        \n",
            "  inflating: Bart/bart160.bmp        \n",
            "  inflating: Bart/bart99.bmp         \n",
            "  inflating: Bart/bart72.bmp         \n",
            "  inflating: Bart/bart66.bmp         \n",
            "  inflating: Bart/bart62.bmp         \n",
            "  inflating: Bart/bart76.bmp         \n",
            "  inflating: Bart/bart89.bmp         \n",
            "  inflating: Bart/bart158.bmp        \n",
            "  inflating: Bart/bart164.bmp        \n",
            "  inflating: Bart/bart165.bmp        \n",
            "  inflating: Bart/bart159.bmp        \n",
            "  inflating: Bart/bart77.bmp         \n",
            "  inflating: Bart/bart63.bmp         \n",
            "  inflating: Bart/bart75.bmp         \n",
            "  inflating: Bart/bart61.bmp         \n",
            "  inflating: Bart/bart49.bmp         \n",
            "  inflating: Bart/bart167.bmp        \n",
            "  inflating: Bart/bart166.bmp        \n",
            "  inflating: Bart/bart48.bmp         \n",
            "  inflating: Bart/bart60.bmp         \n",
            "  inflating: Bart/bart74.bmp         \n",
            "  inflating: Bart/bart13.bmp         \n",
            "  inflating: Bart/bart115.bmp        \n",
            "  inflating: Bart/bart101.bmp        \n",
            "  inflating: Bart/bart128.bmp        \n",
            "  inflating: Bart/bart100.bmp        \n",
            "  inflating: Bart/bart114.bmp        \n",
            "  inflating: Bart/bart12.bmp         \n",
            "  inflating: Bart/bart38.bmp         \n",
            "  inflating: Bart/bart10.bmp         \n",
            "  inflating: Bart/bart102.bmp        \n",
            "  inflating: Bart/bart116.bmp        \n",
            "  inflating: Bart/bart117.bmp        \n",
            "  inflating: Bart/bart103.bmp        \n",
            "  inflating: Bart/bart11.bmp         \n",
            "  inflating: Bart/bart39.bmp         \n",
            "  inflating: Bart/bart15.bmp         \n",
            "  inflating: Bart/bart29.bmp         \n",
            "  inflating: Bart/bart9.bmp          \n",
            "  inflating: Bart/bart113.bmp        \n",
            "  inflating: Bart/bart112.bmp        \n",
            "  inflating: Bart/bart106.bmp        \n",
            "  inflating: Bart/bart8.bmp          \n",
            "  inflating: Bart/bart28.bmp         \n",
            "  inflating: Bart/bart14.bmp         \n",
            "  inflating: Bart/bart16.bmp         \n",
            "  inflating: Bart/bart138.bmp        \n",
            "  inflating: Bart/bart110.bmp        \n",
            "  inflating: Bart/bart104.bmp        \n",
            "  inflating: Bart/bart105.bmp        \n",
            "  inflating: Bart/bart111.bmp        \n",
            "  inflating: Bart/bart139.bmp        \n",
            "  inflating: Bart/bart17.bmp         \n",
            "  inflating: Bart/bart32.bmp         \n",
            "  inflating: Bart/bart26.bmp         \n",
            "  inflating: Bart/bart6.bmp          \n",
            "  inflating: Bart/bart134.bmp        \n",
            "  inflating: Bart/bart120.bmp        \n",
            "  inflating: Bart/bart108.bmp        \n",
            "  inflating: Bart/bart109.bmp        \n",
            "  inflating: Bart/bart121.bmp        \n",
            "  inflating: Bart/bart135.bmp        \n",
            "  inflating: Bart/bart7.bmp          \n",
            "  inflating: Bart/bart27.bmp         \n",
            "  inflating: Bart/bart19.bmp         \n",
            "  inflating: Bart/bart25.bmp         \n",
            "  inflating: Bart/bart31.bmp         \n",
            "  inflating: Bart/bart5.bmp          \n",
            "  inflating: Bart/bart123.bmp        \n",
            "  inflating: Bart/bart137.bmp        \n",
            "  inflating: Bart/bart136.bmp        \n",
            "  inflating: Bart/bart122.bmp        \n",
            "  inflating: Bart/bart4.bmp          \n",
            "  inflating: Bart/bart30.bmp         \n",
            "  inflating: Bart/bart24.bmp         \n",
            "  inflating: Bart/bart18.bmp         \n",
            "  inflating: Bart/bart20.bmp         \n",
            "  inflating: Bart/bart34.bmp         \n",
            "  inflating: Bart/bart126.bmp        \n",
            "  inflating: Bart/bart132.bmp        \n",
            "  inflating: Bart/bart133.bmp        \n",
            "  inflating: Bart/bart127.bmp        \n",
            "  inflating: Bart/bart1.bmp          \n",
            "  inflating: Bart/bart35.bmp         \n",
            "  inflating: Bart/bart21.bmp         \n",
            "  inflating: Bart/bart37.bmp         \n",
            "  inflating: Bart/bart23.bmp         \n",
            "  inflating: Bart/bart3.bmp          \n",
            "  inflating: Bart/bart119.bmp        \n",
            "  inflating: Bart/bart131.bmp        \n",
            "  inflating: Bart/bart125.bmp        \n",
            "  inflating: Bart/bart124.bmp        \n",
            "  inflating: Bart/bart130.bmp        \n",
            "  inflating: Bart/bart118.bmp        \n",
            "  inflating: Bart/bart2.bmp          \n",
            "  inflating: Bart/bart22.bmp         \n",
            "  inflating: Bart/bart36.bmp         \n",
            "  inflating: Bart/bart79.bmp         \n",
            "  inflating: Bart/bart51.bmp         \n",
            "  inflating: Bart/bart45.bmp         \n",
            "  inflating: Bart/bart92.bmp         \n",
            "  inflating: Bart/bart86.bmp         \n",
            "  inflating: Bart/bart157.bmp        \n",
            "  inflating: Bart/bart143.bmp        \n",
            "  inflating: Bart/bart142.bmp        \n",
            "  inflating: Bart/bart156.bmp        \n",
            "  inflating: Bart/bart87.bmp         \n",
            "  inflating: Bart/bart93.bmp         \n",
            "  inflating: Bart/bart44.bmp         \n",
            "  inflating: Bart/bart50.bmp         \n",
            "  inflating: Bart/bart46.bmp         \n",
            "  inflating: Bart/bart52.bmp         \n",
            "  inflating: Bart/bart85.bmp         \n",
            "  inflating: Bart/bart91.bmp         \n",
            "  inflating: Bart/bart154.bmp        \n",
            "  inflating: Bart/bart168.bmp        \n",
            "  inflating: Bart/bart169.bmp        \n",
            "  inflating: Bart/bart155.bmp        \n",
            "  inflating: Bart/bart141.bmp        \n",
            "  inflating: Bart/bart90.bmp         \n",
            "  inflating: Bart/bart84.bmp         \n",
            "  inflating: Bart/bart53.bmp         \n",
            "  inflating: Bart/bart47.bmp         \n",
            "  inflating: Bart/bart43.bmp         \n",
            "  inflating: Bart/bart57.bmp         \n",
            "  inflating: Bart/bart80.bmp         \n",
            "  inflating: Bart/bart94.bmp         \n",
            "  inflating: Bart/bart145.bmp        \n",
            "  inflating: Bart/bart151.bmp        \n",
            "  inflating: Bart/bart150.bmp        \n",
            "  inflating: Bart/bart144.bmp        \n",
            "  inflating: Bart/bart95.bmp         \n",
            "  inflating: Bart/bart81.bmp         \n",
            "  inflating: Bart/bart56.bmp         \n",
            "  inflating: Bart/bart42.bmp         \n",
            "  inflating: Bart/bart54.bmp         \n",
            "  inflating: Bart/bart40.bmp         \n",
            "  inflating: Bart/bart68.bmp         \n",
            "  inflating: Bart/bart97.bmp         \n",
            "  inflating: Bart/bart83.bmp         \n",
            "  inflating: Bart/bart146.bmp        \n",
            "  inflating: Bart/bart147.bmp        \n",
            "  inflating: Bart/bart153.bmp        \n",
            "  inflating: Bart/bart82.bmp         \n",
            "  inflating: Bart/bart96.bmp         \n",
            "  inflating: Bart/bart69.bmp         \n",
            "  inflating: Bart/bart55.bmp         \n",
            "   creating: Homer/\n",
            "  inflating: Homer/homer38.bmp       \n",
            "  inflating: Homer/homer10.bmp       \n",
            "  inflating: Homer/homer119.bmp      \n",
            "  inflating: Homer/homer124.bmp      \n",
            "  inflating: Homer/homer13.bmp       \n",
            "  inflating: Homer/homer16.bmp       \n",
            "  inflating: Homer/homer123.bmp      \n",
            "  inflating: Homer/homer122.bmp      \n",
            "  inflating: Homer/homer17.bmp       \n",
            "  inflating: Homer/homer15.bmp       \n",
            "  inflating: Homer/homer29.bmp       \n",
            "  inflating: Homer/homer120.bmp      \n",
            "  inflating: Homer/homer8.bmp        \n",
            "  inflating: Homer/homer9.bmp        \n",
            "  inflating: Homer/homer109.bmp      \n",
            "  inflating: Homer/homer121.bmp      \n",
            "  inflating: Homer/homer28.bmp       \n",
            "  inflating: Homer/homer14.bmp       \n",
            "  inflating: Homer/homer73.bmp       \n",
            "  inflating: Homer/homer98.bmp       \n",
            "  inflating: Homer/homer99.bmp       \n",
            "  inflating: Homer/homer72.bmp       \n",
            "  inflating: Homer/homer66.bmp       \n",
            "  inflating: Homer/homer58.bmp       \n",
            "  inflating: Homer/homer70.bmp       \n",
            "  inflating: Homer/homer65.bmp       \n",
            "  inflating: Homer/homer71.bmp       \n",
            "  inflating: Homer/homer59.bmp       \n",
            "  inflating: Homer/homer75.bmp       \n",
            "  inflating: Homer/homer61.bmp       \n",
            "  inflating: Homer/homer49.bmp       \n",
            "  inflating: Homer/homer48.bmp       \n",
            "  inflating: Homer/homer60.bmp       \n",
            "  inflating: Homer/homer74.bmp       \n",
            "  inflating: Homer/homer62.bmp       \n",
            "  inflating: Homer/homer76.bmp       \n",
            "  inflating: Homer/homer77.bmp       \n",
            "  inflating: Homer/homer63.bmp       \n",
            "  inflating: Homer/homer46.bmp       \n",
            "  inflating: Homer/homer52.bmp       \n",
            "  inflating: Homer/homer85.bmp       \n",
            "  inflating: Homer/homer91.bmp       \n",
            "  inflating: Homer/homer90.bmp       \n",
            "  inflating: Homer/homer84.bmp       \n",
            "  inflating: Homer/homer47.bmp       \n",
            "  inflating: Homer/homer79.bmp       \n",
            "  inflating: Homer/homer51.bmp       \n",
            "  inflating: Homer/homer45.bmp       \n",
            "  inflating: Homer/homer92.bmp       \n",
            "  inflating: Homer/homer86.bmp       \n",
            "  inflating: Homer/homer87.bmp       \n",
            "  inflating: Homer/homer93.bmp       \n",
            "  inflating: Homer/homer44.bmp       \n",
            "  inflating: Homer/homer50.bmp       \n",
            "  inflating: Homer/homer78.bmp       \n",
            "  inflating: Homer/homer54.bmp       \n",
            "  inflating: Homer/homer40.bmp       \n",
            "  inflating: Homer/homer68.bmp       \n",
            "  inflating: Homer/homer97.bmp       \n",
            "  inflating: Homer/homer83.bmp       \n",
            "  inflating: Homer/homer82.bmp       \n",
            "  inflating: Homer/homer96.bmp       \n",
            "  inflating: Homer/homer69.bmp       \n",
            "  inflating: Homer/homer41.bmp       \n",
            "  inflating: Homer/homer55.bmp       \n",
            "  inflating: Homer/homer43.bmp       \n",
            "  inflating: Homer/homer57.bmp       \n",
            "  inflating: Homer/homer80.bmp       \n",
            "  inflating: Homer/homer94.bmp       \n",
            "  inflating: Homer/homer95.bmp       \n",
            "  inflating: Homer/homer81.bmp       \n",
            "  inflating: Homer/homer56.bmp       \n",
            "  inflating: Homer/homer31.bmp       \n",
            "  inflating: Homer/homer104.bmp      \n",
            "  inflating: Homer/homer110.bmp      \n",
            "  inflating: Homer/homer4.bmp        \n",
            "  inflating: Homer/homer5.bmp        \n",
            "  inflating: Homer/homer105.bmp      \n",
            "  inflating: Homer/homer30.bmp       \n",
            "  inflating: Homer/homer24.bmp       \n",
            "  inflating: Homer/homer18.bmp       \n",
            "  inflating: Homer/homer32.bmp       \n",
            "  inflating: Homer/homer26.bmp       \n",
            "  inflating: Homer/homer113.bmp      \n",
            "  inflating: Homer/homer107.bmp      \n",
            "  inflating: Homer/homer7.bmp        \n",
            "  inflating: Homer/homer6.bmp        \n",
            "  inflating: Homer/homer106.bmp      \n",
            "  inflating: Homer/homer112.bmp      \n",
            "  inflating: Homer/homer27.bmp       \n",
            "  inflating: Homer/homer33.bmp       \n",
            "  inflating: Homer/homer37.bmp       \n",
            "  inflating: Homer/homer23.bmp       \n",
            "  inflating: Homer/homer116.bmp      \n",
            "  inflating: Homer/homer102.bmp      \n",
            "  inflating: Homer/homer2.bmp        \n",
            "  inflating: Homer/homer3.bmp        \n",
            "  inflating: Homer/homer103.bmp      \n",
            "  inflating: Homer/homer117.bmp      \n",
            "  inflating: Homer/homer22.bmp       \n",
            "  inflating: Homer/homer36.bmp       \n",
            "  inflating: Homer/homer20.bmp       \n",
            "  inflating: Homer/homer34.bmp       \n",
            "  inflating: Homer/homer101.bmp      \n",
            "  inflating: Homer/homer115.bmp      \n",
            "  inflating: Homer/homer1.bmp        \n",
            "  inflating: Homer/homer100.bmp      \n",
            "  inflating: Homer/homer35.bmp       \n",
            "  inflating: Homer/homer21.bmp       \n"
          ]
        }
      ],
      "source": [
        "!unzip homer_bart.zip"
      ]
    },
    {
      "cell_type": "code",
      "source": [
        "import shutil\n",
        "import os"
      ],
      "metadata": {
        "id": "ZDOb5FPOeZsX"
      },
      "execution_count": 5,
      "outputs": []
    },
    {
      "cell_type": "code",
      "source": [
        "parent_dir='/content/my_data'\n",
        "os.makedirs(parent_dir,exist_ok=True)"
      ],
      "metadata": {
        "id": "jx1FOjMDeOiz"
      },
      "execution_count": 6,
      "outputs": []
    },
    {
      "cell_type": "code",
      "source": [
        "shutil.move('/content/Homer',parent_dir)\n",
        "shutil.move('/content/Bart',parent_dir)"
      ],
      "metadata": {
        "colab": {
          "base_uri": "https://localhost:8080/",
          "height": 36
        },
        "id": "wYjo2jtUeh7i",
        "outputId": "14c07b55-fbf7-4e7b-e00a-0c53df208151"
      },
      "execution_count": 7,
      "outputs": [
        {
          "output_type": "execute_result",
          "data": {
            "text/plain": [
              "'/content/my_data/Bart'"
            ],
            "application/vnd.google.colaboratory.intrinsic+json": {
              "type": "string"
            }
          },
          "metadata": {},
          "execution_count": 7
        }
      ]
    },
    {
      "cell_type": "code",
      "source": [
        "import tensorflow as tf\n",
        "from keras import layers\n",
        "from tensorflow.keras.preprocessing import image_dataset_from_directory\n",
        "from keras.layers import Dense,Flatten\n",
        "from keras import Input\n"
      ],
      "metadata": {
        "id": "zLRUf0H6ZN0V"
      },
      "execution_count": 9,
      "outputs": []
    },
    {
      "cell_type": "code",
      "source": [
        "dataset=tf.keras.preprocessing.image_dataset_from_directory('/content/my_data',labels='inferred',label_mode='int',batch_size=32,image_size=(64,64))"
      ],
      "metadata": {
        "colab": {
          "base_uri": "https://localhost:8080/"
        },
        "id": "unlb5IfYZewe",
        "outputId": "419bcfc6-15a7-419d-9114-ea0de977bfa9"
      },
      "execution_count": 11,
      "outputs": [
        {
          "output_type": "stream",
          "name": "stdout",
          "text": [
            "Found 269 files belonging to 2 classes.\n"
          ]
        }
      ]
    },
    {
      "cell_type": "code",
      "source": [
        "dataset"
      ],
      "metadata": {
        "colab": {
          "base_uri": "https://localhost:8080/"
        },
        "id": "cKnQDdX-ftlZ",
        "outputId": "ce8d25ee-5516-48a5-ea60-f7076c7aaf6d"
      },
      "execution_count": 12,
      "outputs": [
        {
          "output_type": "execute_result",
          "data": {
            "text/plain": [
              "<_PrefetchDataset element_spec=(TensorSpec(shape=(None, 64, 64, 3), dtype=tf.float32, name=None), TensorSpec(shape=(None,), dtype=tf.int32, name=None))>"
            ]
          },
          "metadata": {},
          "execution_count": 12
        }
      ]
    },
    {
      "cell_type": "code",
      "source": [
        "dataset=dataset.shuffle(buffer_size=1000)\n",
        "train_size=int(len(dataset)*0.9)\n",
        "train_dataset=dataset.take(train_size)\n",
        "test_dataset=dataset.skip(train_size)"
      ],
      "metadata": {
        "id": "UWSmBjp1gFIq"
      },
      "execution_count": 13,
      "outputs": []
    },
    {
      "cell_type": "code",
      "source": [
        "from tensorflow.keras.models import Sequential"
      ],
      "metadata": {
        "id": "Jwic9Rxbgl8Y"
      },
      "execution_count": 14,
      "outputs": []
    },
    {
      "cell_type": "code",
      "source": [
        "model=Sequential(\n",
        "    [\n",
        "        Dense(128,activation='relu',input_shape=(64,64,3)),\n",
        "        Flatten(),\n",
        "        Dense(64,activation='relu'),\n",
        "        Dense(2,activation='sigmoid')\n",
        "    ]\n",
        ")"
      ],
      "metadata": {
        "id": "WR3-1c4RhDs-"
      },
      "execution_count": 15,
      "outputs": []
    },
    {
      "cell_type": "code",
      "source": [
        "model.compile(optimizer='Adam',loss='sparse_categorical_crossentropy',metrics=['accuracy'])"
      ],
      "metadata": {
        "id": "bsHoKC4jhpi5"
      },
      "execution_count": 16,
      "outputs": []
    },
    {
      "cell_type": "code",
      "source": [
        "model.fit(train_dataset,epochs=10,batch_size=32,verbose=1)"
      ],
      "metadata": {
        "colab": {
          "base_uri": "https://localhost:8080/"
        },
        "id": "_C5NALoqh-sH",
        "outputId": "0dc9fe6f-61bf-4a93-8970-c2bf01263d9e"
      },
      "execution_count": 17,
      "outputs": [
        {
          "output_type": "stream",
          "name": "stdout",
          "text": [
            "Epoch 1/10\n",
            "8/8 [==============================] - 9s 888ms/step - loss: 3202.9321 - accuracy: 0.5654\n",
            "Epoch 2/10\n",
            "8/8 [==============================] - 6s 769ms/step - loss: 1650.5701 - accuracy: 0.6456\n",
            "Epoch 3/10\n",
            "8/8 [==============================] - 7s 735ms/step - loss: 927.2065 - accuracy: 0.6835\n",
            "Epoch 4/10\n",
            "8/8 [==============================] - 6s 697ms/step - loss: 607.6486 - accuracy: 0.6878\n",
            "Epoch 5/10\n",
            "8/8 [==============================] - 6s 698ms/step - loss: 223.0359 - accuracy: 0.8017\n",
            "Epoch 6/10\n",
            "8/8 [==============================] - 6s 689ms/step - loss: 99.2004 - accuracy: 0.8819\n",
            "Epoch 7/10\n",
            "8/8 [==============================] - 7s 879ms/step - loss: 67.4981 - accuracy: 0.9030\n",
            "Epoch 8/10\n",
            "8/8 [==============================] - 6s 684ms/step - loss: 31.9692 - accuracy: 0.9367\n",
            "Epoch 9/10\n",
            "8/8 [==============================] - 6s 689ms/step - loss: 28.7006 - accuracy: 0.9325\n",
            "Epoch 10/10\n",
            "8/8 [==============================] - 7s 896ms/step - loss: 27.8261 - accuracy: 0.9198\n"
          ]
        },
        {
          "output_type": "execute_result",
          "data": {
            "text/plain": [
              "<keras.src.callbacks.History at 0x785e4b2cd990>"
            ]
          },
          "metadata": {},
          "execution_count": 17
        }
      ]
    },
    {
      "cell_type": "code",
      "source": [
        "model.evaluate(test_dataset)"
      ],
      "metadata": {
        "colab": {
          "base_uri": "https://localhost:8080/"
        },
        "id": "ikmzbXQwiM1T",
        "outputId": "a4d85e4d-e8eb-4d16-8e5c-469d4e007403"
      },
      "execution_count": 18,
      "outputs": [
        {
          "output_type": "stream",
          "name": "stdout",
          "text": [
            "1/1 [==============================] - 1s 648ms/step - loss: 16.2271 - accuracy: 0.9062\n"
          ]
        },
        {
          "output_type": "execute_result",
          "data": {
            "text/plain": [
              "[16.227149963378906, 0.90625]"
            ]
          },
          "metadata": {},
          "execution_count": 18
        }
      ]
    },
    {
      "cell_type": "code",
      "source": [],
      "metadata": {
        "id": "JCiwsAFXiqjw"
      },
      "execution_count": null,
      "outputs": []
    }
  ]
}